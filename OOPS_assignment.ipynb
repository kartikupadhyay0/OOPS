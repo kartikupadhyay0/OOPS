{
 "cells": [
  {
   "cell_type": "markdown",
   "metadata": {},
   "source": [
    "                                              OOPS ASSIGNMENT"
   ]
  },
  {
   "cell_type": "markdown",
   "metadata": {},
   "source": [
    "Q1. What are the five key concepts of Object-Oriented Programming (OOP)?\n",
    "\n",
    "Ans:The five key concepts of Object-Oriented Programming (OOP) are:\n",
    "\n",
    "Encapsulation: This is the bundling of data and methods that operate on that data within a single unit, or class. It restricts direct access to some of an object’s components, which helps prevent unintended interference and misuse.\n",
    "\n",
    "Abstraction: Abstraction involves hiding complex implementation details and showing only the essential features of an object. It allows developers to interact with objects at a high level without needing to understand the specifics of how they work.\n",
    "\n",
    "Inheritance: Inheritance allows a new class (subclass) to inherit properties and behaviors (methods) from an existing class (superclass). This promotes code reusability and establishes a hierarchical relationship between classes.\n",
    "\n",
    "Polymorphism: Polymorphism allows objects to be treated as instances of their parent class, even if they are actually instances of a child class. This enables methods to perform differently based on the object that is calling them, enhancing flexibility and integration in code.\n",
    "\n",
    "Classes and Objects: A class is a blueprint for creating objects (instances), defining attributes and behaviors. An object is an instance of a class that contains actual values and can perform actions defined by its class.\n",
    "\n",
    "These concepts work together to create a modular and organized approach to programming.\n",
    "\n",
    "\n",
    "\n"
   ]
  },
  {
   "cell_type": "markdown",
   "metadata": {},
   "source": [
    "Q2. Write a Python class for a `Car` with attributes for `make`, `model`, and `year`. Include a method to display the car's information.\n",
    "\n",
    "Ans: Here’s a simple Python class for a Car with the specified attributes and a method to display the car's information:"
   ]
  },
  {
   "cell_type": "code",
   "execution_count": null,
   "metadata": {},
   "outputs": [],
   "source": [
    "class Car:\n",
    "    def __init__(self, make, model, year):\n",
    "        self.make = make\n",
    "        self.model = model\n",
    "        self.year = year\n",
    "\n",
    "    def display_info(self):\n",
    "        print(f\"Car Information: {self.year} {self.make} {self.model}\")\n",
    "\n",
    "# Example usage\n",
    "my_car = Car(\"Toyota\", \"Camry\", 2020)\n",
    "my_car.display_info()\n"
   ]
  },
  {
   "cell_type": "markdown",
   "metadata": {},
   "source": [
    "In this class:\n",
    "\n",
    "The __init__ method initializes the attributes make, model, and year.\n",
    "The display_info method prints the car's information in a formatted string"
   ]
  },
  {
   "cell_type": "markdown",
   "metadata": {},
   "source": [
    "Q3. Explain the difference between instance methods and class methods. Provide an example of each.\n",
    "\n",
    "Ans: In Python, instance methods and class methods serve different purposes and are defined differently:\n",
    "\n",
    "Instance Methods\n",
    "Definition: Instance methods are functions defined within a class that operate on instances of that class. They take self as the first parameter, which refers to the specific instance of the class.\n",
    "Usage: They can access and modify instance attributes.\n",
    "Example:"
   ]
  },
  {
   "cell_type": "code",
   "execution_count": null,
   "metadata": {},
   "outputs": [],
   "source": [
    "class Dog:\n",
    "    def __init__(self, name):\n",
    "        self.name = name\n",
    "\n",
    "    def bark(self):\n",
    "        print(f\"{self.name} says Woof!\")\n",
    "\n",
    "# Example usage\n",
    "my_dog = Dog(\"Buddy\")\n",
    "my_dog.bark()  # Output: Buddy says Woof!\n"
   ]
  },
  {
   "cell_type": "markdown",
   "metadata": {},
   "source": [
    "Class Methods\n",
    "Definition: Class methods are functions that are bound to the class rather than its instances. They take cls as the first parameter, which refers to the class itself. Class methods are defined using the @classmethod decorator.\n",
    "Usage: They can access and modify class-level attributes and are often used for factory methods or to maintain state across all instances.\n",
    "Example:"
   ]
  },
  {
   "cell_type": "code",
   "execution_count": null,
   "metadata": {},
   "outputs": [],
   "source": [
    "class Dog:\n",
    "    species = \"Canis lupus familiaris\"  # Class attribute\n",
    "\n",
    "    @classmethod\n",
    "    def get_species(cls):\n",
    "        return cls.species\n",
    "\n",
    "# Example usage\n",
    "print(Dog.get_species())  # Output: Canis lupus familiaris\n"
   ]
  },
  {
   "cell_type": "markdown",
   "metadata": {},
   "source": [
    "Summary\n",
    "Instance methods work with individual objects and can access instance attributes.\n",
    "Class methods work with the class itself and can access class-level attributes."
   ]
  },
  {
   "cell_type": "markdown",
   "metadata": {},
   "source": [
    "Q4. How does Python implement method overloading? Give an example.\n",
    "\n",
    "Ans: Python does not support method overloading in the same way that some other programming languages do (like Java or C++). Instead, Python allows only one method with a given name in a class. However, you can achieve similar functionality using default arguments or variable-length argument lists.\n",
    "\n",
    "Example of Method Overloading with Default Arguments\n",
    "You can use default parameters to handle different types or numbers of arguments:"
   ]
  },
  {
   "cell_type": "code",
   "execution_count": null,
   "metadata": {},
   "outputs": [],
   "source": [
    "class MathOperations:\n",
    "    def add(self, a, b=0, c=0):\n",
    "        return a + b + c\n",
    "\n",
    "# Example usage\n",
    "math_op = MathOperations()\n",
    "print(math_op.add(5))        # Output: 5\n",
    "print(math_op.add(5, 10))    # Output: 15\n",
    "print(math_op.add(5, 10, 15)) # Output: 30\n"
   ]
  },
  {
   "cell_type": "markdown",
   "metadata": {},
   "source": [
    "Example of Method Overloading with Variable-Length Arguments\n",
    "You can also use *args to allow a variable number of arguments:"
   ]
  },
  {
   "cell_type": "code",
   "execution_count": null,
   "metadata": {},
   "outputs": [],
   "source": [
    "class MathOperations:\n",
    "    def add(self, *args):\n",
    "        return sum(args)\n",
    "\n",
    "# Example usage\n",
    "math_op = MathOperations()\n",
    "print(math_op.add(5))                # Output: 5\n",
    "print(math_op.add(5, 10))            # Output: 15\n",
    "print(math_op.add(5, 10, 15, 20))    # Output: 50\n"
   ]
  },
  {
   "cell_type": "markdown",
   "metadata": {},
   "source": [
    "Summary\n",
    "While Python doesn't support traditional method overloading, you can achieve similar results using default arguments or variable-length argument lists, allowing you to handle multiple types and numbers of arguments in a single method."
   ]
  },
  {
   "cell_type": "markdown",
   "metadata": {},
   "source": [
    "Q5. What are the three types of access modifiers in Python? How are they denoted?\n",
    "\n",
    "Ans: In Python, there are three types of access modifiers that control the visibility and accessibility of class members (attributes and methods):\n",
    "\n",
    "1. Public\n",
    "Definition: Public members are accessible from anywhere, both inside and outside the class.\n",
    "Denotation: No special notation is used; simply define the attribute or method normally.\n",
    "Example:"
   ]
  },
  {
   "cell_type": "code",
   "execution_count": null,
   "metadata": {},
   "outputs": [],
   "source": [
    "class Example:\n",
    "    def __init__(self):\n",
    "        self.public_attr = \"I am public\"\n",
    "\n",
    "obj = Example()\n",
    "print(obj.public_attr)  # Output: I am public\n"
   ]
  },
  {
   "cell_type": "markdown",
   "metadata": {},
   "source": [
    "2. Protected\n",
    "Definition: Protected members are intended to be accessible only within the class and its subclasses. They are not meant to be accessed from outside the class hierarchy.\n",
    "Denotation: Protected members are denoted with a single underscore prefix (_).\n",
    "Example:"
   ]
  },
  {
   "cell_type": "code",
   "execution_count": null,
   "metadata": {},
   "outputs": [],
   "source": [
    "class Example:\n",
    "    def __init__(self):\n",
    "        self._protected_attr = \"I am protected\"\n",
    "\n",
    "class SubExample(Example):\n",
    "    def show(self):\n",
    "        return self._protected_attr\n",
    "\n",
    "obj = SubExample()\n",
    "print(obj.show())  # Output: I am protected\n"
   ]
  },
  {
   "cell_type": "markdown",
   "metadata": {},
   "source": [
    "3. Private\n",
    "Definition: Private members are intended to be accessible only within the class they are defined in. They cannot be accessed directly from outside the class.\n",
    "Denotation: Private members are denoted with a double underscore prefix (__).\n",
    "Example:"
   ]
  },
  {
   "cell_type": "code",
   "execution_count": null,
   "metadata": {},
   "outputs": [],
   "source": [
    "class Example:\n",
    "    def __init__(self):\n",
    "        self.__private_attr = \"I am private\"\n",
    "\n",
    "    def get_private_attr(self):\n",
    "        return self.__private_attr\n",
    "\n",
    "obj = Example()\n",
    "print(obj.get_private_attr())  # Output: I am private\n",
    "# print(obj.__private_attr)     # This would raise an AttributeError\n"
   ]
  },
  {
   "cell_type": "markdown",
   "metadata": {},
   "source": [
    "Summary\n",
    "Public: No prefix, accessible from anywhere.\n",
    "Protected: Single underscore prefix (_), accessible within the class and its subclasses.\n",
    "Private: Double underscore prefix (__), accessible only within the class itself."
   ]
  },
  {
   "cell_type": "markdown",
   "metadata": {},
   "source": [
    "Q6. Describe the five types of inheritance in Python. Provide a simple example of multiple inheritance.\n",
    "\n",
    "Ans: In Python, inheritance allows a class (child or subclass) to inherit attributes and methods from another class (parent or superclass). Here are five types of inheritance:\n",
    "\n",
    "1. Single Inheritance\n",
    "A subclass inherits from one superclass.\n",
    "\n",
    "Example:"
   ]
  },
  {
   "cell_type": "code",
   "execution_count": null,
   "metadata": {},
   "outputs": [],
   "source": [
    "class Animal:\n",
    "    def speak(self):\n",
    "        return \"Animal speaks\"\n",
    "\n",
    "class Dog(Animal):\n",
    "    def bark(self):\n",
    "        return \"Woof!\"\n",
    "\n",
    "dog = Dog()\n",
    "print(dog.speak())  # Output: Animal speaks\n",
    "print(dog.bark())   # Output: Woof!\n"
   ]
  },
  {
   "cell_type": "markdown",
   "metadata": {},
   "source": [
    "2. Multiple Inheritance\n",
    "A subclass inherits from multiple superclasses. This allows the subclass to combine features from multiple parent classes.\n",
    "\n",
    "Example:"
   ]
  },
  {
   "cell_type": "code",
   "execution_count": null,
   "metadata": {},
   "outputs": [],
   "source": [
    "class Flyer:\n",
    "    def fly(self):\n",
    "        return \"I can fly\"\n",
    "\n",
    "class Swimmer:\n",
    "    def swim(self):\n",
    "        return \"I can swim\"\n",
    "\n",
    "class Duck(Flyer, Swimmer):\n",
    "    def quack(self):\n",
    "        return \"Quack!\"\n",
    "\n",
    "duck = Duck()\n",
    "print(duck.fly())   # Output: I can fly\n",
    "print(duck.swim())  # Output: I can swim\n",
    "print(duck.quack()) # Output: Quack!\n"
   ]
  },
  {
   "cell_type": "markdown",
   "metadata": {},
   "source": [
    "3. Multilevel Inheritance\n",
    "A subclass inherits from a superclass, which is also a subclass of another superclass.\n",
    "\n",
    "Example:"
   ]
  },
  {
   "cell_type": "code",
   "execution_count": null,
   "metadata": {},
   "outputs": [],
   "source": [
    "class Animal:\n",
    "    def speak(self):\n",
    "        return \"Animal speaks\"\n",
    "\n",
    "class Dog(Animal):\n",
    "    def bark(self):\n",
    "        return \"Woof!\"\n",
    "\n",
    "class Puppy(Dog):\n",
    "    def weep(self):\n",
    "        return \"Puppy weeps\"\n",
    "\n",
    "puppy = Puppy()\n",
    "print(puppy.speak())  # Output: Animal speaks\n",
    "print(puppy.bark())   # Output: Woof!\n",
    "print(puppy.weep())   # Output: Puppy weeps\n"
   ]
  },
  {
   "cell_type": "markdown",
   "metadata": {},
   "source": [
    "4. Hierarchical Inheritance\n",
    "Multiple subclasses inherit from a single superclass.\n",
    "\n",
    "Example:"
   ]
  },
  {
   "cell_type": "code",
   "execution_count": null,
   "metadata": {},
   "outputs": [],
   "source": [
    "class Animal:\n",
    "    def speak(self):\n",
    "        return \"Animal speaks\"\n",
    "\n",
    "class Dog(Animal):\n",
    "    def bark(self):\n",
    "        return \"Woof!\"\n",
    "\n",
    "class Cat(Animal):\n",
    "    def meow(self):\n",
    "        return \"Meow!\"\n",
    "\n",
    "dog = Dog()\n",
    "cat = Cat()\n",
    "print(dog.speak())  # Output: Animal speaks\n",
    "print(cat.speak())   # Output: Animal speaks\n"
   ]
  },
  {
   "cell_type": "markdown",
   "metadata": {},
   "source": [
    "5. Hybrid Inheritance\n",
    "A combination of two or more types of inheritance (e.g., multiple and multilevel).\n",
    "\n",
    "Example:"
   ]
  },
  {
   "cell_type": "code",
   "execution_count": null,
   "metadata": {},
   "outputs": [],
   "source": [
    "class A:\n",
    "    def method_a(self):\n",
    "        return \"Method A\"\n",
    "\n",
    "class B(A):\n",
    "    def method_b(self):\n",
    "        return \"Method B\"\n",
    "\n",
    "class C(A):\n",
    "    def method_c(self):\n",
    "        return \"Method C\"\n",
    "\n",
    "class D(B, C):\n",
    "    def method_d(self):\n",
    "        return \"Method D\"\n",
    "\n",
    "d = D()\n",
    "print(d.method_a())  # Output: Method A\n",
    "print(d.method_b())  # Output: Method B\n",
    "print(d.method_c())  # Output: Method C\n",
    "print(d.method_d())  # Output: Method D\n"
   ]
  },
  {
   "cell_type": "markdown",
   "metadata": {},
   "source": [
    "Summary\n",
    "Single Inheritance: One subclass, one superclass.\n",
    "Multiple Inheritance: One subclass, multiple superclasses.\n",
    "Multilevel Inheritance: One subclass inherits from another subclass.\n",
    "Hierarchical Inheritance: Multiple subclasses inherit from one superclass.\n",
    "Hybrid Inheritance: Combination of two or more types of inheritance.\n",
    "\n",
    "\n"
   ]
  },
  {
   "cell_type": "markdown",
   "metadata": {},
   "source": [
    "Q7. What is the Method Resolution Order (MRO) in Python? How can you retrieve it programmatically?\n",
    "\n",
    "Ans: Method Resolution Order (MRO) in Python refers to the order in which Python looks for methods and attributes in classes when a method is called on an object. It is particularly important in the context of multiple inheritance, where a class can inherit from multiple parent classes. The MRO determines which method is called when there are multiple candidates.\n",
    "\n",
    "MRO in Python\n",
    "Python uses the C3 linearization algorithm to determine the MRO, ensuring that:\n",
    "\n",
    "A class is always considered before its parents.\n",
    "Parents are considered in the order they are inherited.\n",
    "If a class inherits from multiple classes, it respects the order of inheritance.\n",
    "Retrieving MRO Programmatically\n",
    "You can retrieve the MRO of a class using the mro() method or the __mro__ attribute.\n",
    "\n",
    "Example:"
   ]
  },
  {
   "cell_type": "code",
   "execution_count": null,
   "metadata": {},
   "outputs": [],
   "source": [
    "class A:\n",
    "    pass\n",
    "\n",
    "class B(A):\n",
    "    pass\n",
    "\n",
    "class C(A):\n",
    "    pass\n",
    "\n",
    "class D(B, C):\n",
    "    pass\n",
    "\n",
    "# Retrieve MRO\n",
    "print(D.mro())       # Output: [<class '__main__.D'>, <class '__main__.B'>, <class '__main__.C'>, <class '__main__.A'>, <class 'object'>]\n",
    "print(D.__mro__)     # Output: (<class '__main__.D'>, <class '__main__.B'>, <class '__main__.C'>, <class '__main__.A'>, <class 'object'>)\n"
   ]
  },
  {
   "cell_type": "markdown",
   "metadata": {},
   "source": [
    "In this example, the MRO for class D is displayed, showing the order in which Python will look for methods when they are called on an instance of D. The MRO indicates that Python will first look in D, then in B, followed by C, then A, and finally in the base object class.\n",
    "\n",
    "Summary\n",
    "MRO defines the order in which methods are resolved in case of inheritance.\n",
    "You can retrieve MRO using the mro() method or the __mro__ attribute."
   ]
  },
  {
   "cell_type": "markdown",
   "metadata": {},
   "source": [
    "Q8. Create an abstract base class `Shape` with an abstract method `area()`. Then create two subclasses `Circle` and `Rectangle` that implement the `area()` method.\n",
    "\n",
    "Ans: Here's how you can create an abstract base class Shape with an abstract method area(), and then implement subclasses Circle and Rectangle that provide specific implementations for the area() method.\n",
    "\n",
    "Implementation"
   ]
  },
  {
   "cell_type": "code",
   "execution_count": null,
   "metadata": {},
   "outputs": [],
   "source": [
    "from abc import ABC, abstractmethod\n",
    "import math\n",
    "\n",
    "class Shape(ABC):\n",
    "    @abstractmethod\n",
    "    def area(self):\n",
    "        pass\n",
    "\n",
    "class Circle(Shape):\n",
    "    def __init__(self, radius):\n",
    "        self.radius = radius\n",
    "\n",
    "    def area(self):\n",
    "        return math.pi * (self.radius ** 2)\n",
    "\n",
    "class Rectangle(Shape):\n",
    "    def __init__(self, width, height):\n",
    "        self.width = width\n",
    "        self.height = height\n",
    "\n",
    "    def area(self):\n",
    "        return self.width * self.height\n",
    "\n",
    "# Example usage\n",
    "circle = Circle(5)\n",
    "print(f\"Circle Area: {circle.area():.2f}\")  # Output: Circle Area: 78.54\n",
    "\n",
    "rectangle = Rectangle(4, 6)\n",
    "print(f\"Rectangle Area: {rectangle.area()}\")  # Output: Rectangle Area: 24\n"
   ]
  },
  {
   "cell_type": "markdown",
   "metadata": {},
   "source": [
    "Explanation\n",
    "Abstract Base Class:\n",
    "\n",
    "The Shape class is defined as an abstract base class by inheriting from ABC.\n",
    "It includes the abstract method area(), which must be implemented by any subclass.\n",
    "Subclasses:\n",
    "\n",
    "Circle: The Circle class implements the area() method using the formula \n",
    "π*r**2.\n",
    "Rectangle: The Rectangle class implements the area() method using the formula \n",
    "width×height.\n",
    "Example Usage:\n",
    "\n",
    "Instances of Circle and Rectangle are created, and their area() methods are called to calculate and print their areas.\n",
    "This structure allows you to define a common interface for all shapes while ensuring that specific implementations are provided for each shape type."
   ]
  },
  {
   "cell_type": "markdown",
   "metadata": {},
   "source": [
    "Q9. Demonstrate polymorphism by creating a function that can work with different shape objects to calculate and print their areas.\n",
    "\n",
    "Ans: Polymorphism allows different classes to be treated as instances of the same class through a common interface. In this case, we can create a function that takes shape objects and calculates their areas, demonstrating polymorphism with the Shape, Circle, and Rectangle classes.\n",
    "\n",
    "Implementation"
   ]
  },
  {
   "cell_type": "code",
   "execution_count": null,
   "metadata": {},
   "outputs": [],
   "source": [
    "from abc import ABC, abstractmethod\n",
    "import math\n",
    "\n",
    "class Shape(ABC):\n",
    "    @abstractmethod\n",
    "    def area(self):\n",
    "        pass\n",
    "\n",
    "class Circle(Shape):\n",
    "    def __init__(self, radius):\n",
    "        self.radius = radius\n",
    "\n",
    "    def area(self):\n",
    "        return math.pi * (self.radius ** 2)\n",
    "\n",
    "class Rectangle(Shape):\n",
    "    def __init__(self, width, height):\n",
    "        self.width = width\n",
    "        self.height = height\n",
    "\n",
    "    def area(self):\n",
    "        return self.width * self.height\n",
    "\n",
    "def print_area(shape: Shape):\n",
    "    print(f\"The area is: {shape.area():.2f}\")\n",
    "\n",
    "# Example usage\n",
    "circle = Circle(5)\n",
    "rectangle = Rectangle(4, 6)\n",
    "\n",
    "# Using polymorphism to calculate areas\n",
    "print_area(circle)     # Output: The area is: 78.54\n",
    "print_area(rectangle)  # Output: The area is: 24.00\n"
   ]
  },
  {
   "cell_type": "markdown",
   "metadata": {},
   "source": [
    "Explanation\n",
    "Base Class: The Shape class is an abstract base class with an abstract method area().\n",
    "\n",
    "Subclasses: Circle and Rectangle classes implement the area() method, calculating their respective areas.\n",
    "\n",
    "Polymorphic Function: The print_area function takes an argument of type Shape. It can accept any object that is a subclass of Shape and calls the area() method on it. This demonstrates polymorphism because the function works with different types of shape objects without needing to know their specific types.\n",
    "\n",
    "Example Usage: Instances of Circle and Rectangle are created, and the print_area function is called for both, demonstrating that the same function can operate on different types of objects."
   ]
  },
  {
   "cell_type": "markdown",
   "metadata": {},
   "source": [
    "Q10. Implement encapsulation in a `BankAccount` class with private attributes for `balance` and `account_number`. Include methods for deposit, withdrawal, and balance inquiry.\n",
    "\n",
    " Ans: Here's an implementation of a BankAccount class that demonstrates encapsulation by using private attributes for balance and account_number. The class includes methods for depositing, withdrawing, and inquiring the balance.\n",
    "\n",
    "Implementation"
   ]
  },
  {
   "cell_type": "code",
   "execution_count": null,
   "metadata": {},
   "outputs": [],
   "source": [
    "class BankAccount:\n",
    "    def __init__(self, account_number, initial_balance=0):\n",
    "        self.__account_number = account_number  # Private attribute\n",
    "        self.__balance = initial_balance          # Private attribute\n",
    "\n",
    "    def deposit(self, amount):\n",
    "        if amount > 0:\n",
    "            self.__balance += amount\n",
    "            print(f\"Deposited: ${amount:.2f}. New balance: ${self.__balance:.2f}\")\n",
    "        else:\n",
    "            print(\"Deposit amount must be positive.\")\n",
    "\n",
    "    def withdraw(self, amount):\n",
    "        if amount > 0:\n",
    "            if amount <= self.__balance:\n",
    "                self.__balance -= amount\n",
    "                print(f\"Withdrew: ${amount:.2f}. New balance: ${self.__balance:.2f}\")\n",
    "            else:\n",
    "                print(\"Insufficient funds.\")\n",
    "        else:\n",
    "            print(\"Withdrawal amount must be positive.\")\n",
    "\n",
    "    def get_balance(self):\n",
    "        return self.__balance\n",
    "\n",
    "    def get_account_number(self):\n",
    "        return self.__account_number\n",
    "\n",
    "# Example usage\n",
    "account = BankAccount(\"123456789\", 1000)\n",
    "account.deposit(500)       # Output: Deposited: $500.00. New balance: $1500.00\n",
    "account.withdraw(200)      # Output: Withdrew: $200.00. New balance: $1300.00\n",
    "print(f\"Account Number: {account.get_account_number()}\")  # Output: Account Number: 123456789\n",
    "print(f\"Current Balance: ${account.get_balance():.2f}\")   # Output: Current Balance: $1300.00\n"
   ]
  },
  {
   "cell_type": "markdown",
   "metadata": {},
   "source": [
    "Explanation\n",
    "Private Attributes:\n",
    "\n",
    "The __account_number and __balance attributes are defined with double underscores, making them private. This means they cannot be accessed directly from outside the class.\n",
    "Methods:\n",
    "\n",
    "deposit(amount): Increases the balance by the deposit amount if it's positive.\n",
    "withdraw(amount): Decreases the balance by the withdrawal amount if it's positive and if sufficient funds are available.\n",
    "get_balance(): Returns the current balance. This provides controlled access to the private __balance attribute.\n",
    "get_account_number(): Returns the account number, allowing controlled access to the private __account_number attribute.\n",
    "Example Usage:\n",
    "\n",
    "An instance of BankAccount is created, and the methods are called to deposit, withdraw, and inquire about the balance, demonstrating encapsulation by managing access to the private attributes."
   ]
  },
  {
   "cell_type": "markdown",
   "metadata": {},
   "source": [
    "Q11. Write a class that overrides the `__str__` and `__add__` magic methods. What will these methods allow \n",
    "you to do?\n",
    "\n",
    "Ans: In Python, overriding the __str__ and __add__ magic methods allows you to customize the string representation of an object and define how objects of that class can be added together, respectively.\n",
    "\n",
    "Implementation\n",
    "Here’s an example of a class called Vector that represents a mathematical vector. It overrides the __str__ method to provide a human-readable string representation of the vector and the __add__ method to allow adding two vectors together."
   ]
  },
  {
   "cell_type": "code",
   "execution_count": null,
   "metadata": {},
   "outputs": [],
   "source": [
    "class Vector:\n",
    "    def __init__(self, x, y):\n",
    "        self.x = x\n",
    "        self.y = y\n",
    "\n",
    "    def __str__(self):\n",
    "        return f\"Vector({self.x}, {self.y})\"\n",
    "\n",
    "    def __add__(self, other):\n",
    "        if isinstance(other, Vector):\n",
    "            return Vector(self.x + other.x, self.y + other.y)\n",
    "        return NotImplemented\n",
    "\n",
    "# Example usage\n",
    "v1 = Vector(2, 3)\n",
    "v2 = Vector(4, 5)\n",
    "\n",
    "print(v1)             # Output: Vector(2, 3)\n",
    "print(v2)             # Output: Vector(4, 5)\n",
    "\n",
    "v3 = v1 + v2         # Adding two vectors\n",
    "print(v3)             # Output: Vector(6, 8)\n"
   ]
  },
  {
   "cell_type": "markdown",
   "metadata": {},
   "source": [
    "Explanation\n",
    "__init__ Method: Initializes a Vector object with x and y components.\n",
    "\n",
    "__str__ Method:\n",
    "\n",
    "This method is overridden to return a string representation of the Vector object when you use print() or convert the object to a string.\n",
    "In this example, it returns the string in the format Vector(x, y).\n",
    "__add__ Method:\n",
    "\n",
    "This method allows you to define how two Vector objects can be added together using the + operator.\n",
    "It checks if the other operand is an instance of Vector and, if so, creates and returns a new Vector that represents the sum of the two vectors.\n",
    "If the other operand is not a Vector, it returns NotImplemented, allowing Python to handle the operation appropriately (e.g., raising a TypeError).\n",
    "Summary\n",
    "Overriding __str__ allows you to provide a readable string representation of the object.\n",
    "Overriding __add__ enables the use of the + operator to add two objects of that class together, enhancing the class's usability and expressiveness."
   ]
  },
  {
   "cell_type": "markdown",
   "metadata": {},
   "source": [
    "Q12. Create a decorator that measures and prints the execution time of a function.\n",
    "\n",
    "Ans: You can create a decorator in Python that measures and prints the execution time of a function using the time module. Here’s a simple implementation:\n",
    "\n",
    "Implementation"
   ]
  },
  {
   "cell_type": "code",
   "execution_count": null,
   "metadata": {},
   "outputs": [],
   "source": [
    "import time\n",
    "\n",
    "def timer_decorator(func):\n",
    "    def wrapper(*args, **kwargs):\n",
    "        start_time = time.time()  # Record the start time\n",
    "        result = func(*args, **kwargs)  # Call the original function\n",
    "        end_time = time.time()  # Record the end time\n",
    "        execution_time = end_time - start_time  # Calculate execution time\n",
    "        print(f\"Execution time of {func.__name__}: {execution_time:.4f} seconds\")\n",
    "        return result  # Return the result of the original function\n",
    "    return wrapper\n",
    "\n",
    "# Example usage\n",
    "@timer_decorator\n",
    "def example_function(n):\n",
    "    total = 0\n",
    "    for i in range(n):\n",
    "        total += i\n",
    "    return total\n",
    "\n",
    "# Call the decorated function\n",
    "result = example_function(1000000)\n",
    "print(f\"Result: {result}\")  # Output: Result: 499999500000\n"
   ]
  },
  {
   "cell_type": "markdown",
   "metadata": {},
   "source": [
    "Explanation\n",
    "Decorator Function:\n",
    "\n",
    "timer_decorator(func): This is the main decorator function that takes another function func as an argument.\n",
    "Wrapper Function:\n",
    "\n",
    "wrapper(*args, **kwargs): This inner function wraps the original function. It allows for passing any positional and keyword arguments to the original function.\n",
    "Timing:\n",
    "\n",
    "start_time = time.time(): Records the current time before executing the function.\n",
    "end_time = time.time(): Records the time after the function has executed.\n",
    "execution_time = end_time - start_time: Calculates the difference to determine how long the function took to execute.\n",
    "Printing Execution Time:\n",
    "\n",
    "The execution time is printed in a formatted string showing the function's name and how long it took to run.\n",
    "Returning the Result:\n",
    "\n",
    "The result of the original function is returned to ensure the decorator doesn’t alter the function's return value.\n",
    "Example Usage\n",
    "The example_function is decorated with @timer_decorator, so when it’s called, the execution time will be printed along with the result of the function.\n",
    "This is a useful way to profile the performance of functions in Python!"
   ]
  },
  {
   "cell_type": "markdown",
   "metadata": {},
   "source": [
    "Q13. Explain the concept of the Diamond Problem in multiple inheritance. How does Python resolve it?\n",
    "\n",
    "Ans: The Diamond Problem in multiple inheritance occurs when a class inherits from two or more classes that have a common ancestor. This can create ambiguity in the method resolution order, particularly when trying to access a method or attribute from the common ancestor.\n",
    "\n",
    "Diamond Problem Example\n",
    "Consider the following class hierarchy:"
   ]
  },
  {
   "cell_type": "code",
   "execution_count": null,
   "metadata": {},
   "outputs": [],
   "source": [
    "      A\n",
    "     / \\\n",
    "    B   C\n",
    "     \\ /\n",
    "      D\n"
   ]
  },
  {
   "cell_type": "markdown",
   "metadata": {},
   "source": [
    "In this structure:\n",
    "\n",
    "Class D inherits from both B and C.\n",
    "Classes B and C both inherit from class A.\n",
    "If class D calls a method that is defined in class A, it can lead to ambiguity about whether to call the method from B or C.\n",
    "\n",
    "Python's Resolution of the Diamond Problem\n",
    "Python uses the C3 Linearization algorithm to resolve the Diamond Problem. This algorithm provides a consistent and predictable order in which classes are searched for methods and attributes. The key points are:\n",
    "\n",
    "Method Resolution Order (MRO): Python defines a specific order in which classes are checked for methods and attributes, ensuring that each class is only called once.\n",
    "\n",
    "Left-to-Right Resolution: The order in which classes are specified in the inheritance list matters. For example, if you declare class D(B, C), Python will look for methods in B before checking C.\n",
    "\n",
    "Single Traversal: MRO allows each class to be included in the resolution order just once, preventing infinite loops or inconsistent behavior.\n",
    "\n",
    "Example Implementation\n",
    "Here’s an example that demonstrates the Diamond Problem and how Python resolves it:"
   ]
  },
  {
   "cell_type": "code",
   "execution_count": null,
   "metadata": {},
   "outputs": [],
   "source": [
    "class A:\n",
    "    def show(self):\n",
    "        print(\"Method from A\")\n",
    "\n",
    "class B(A):\n",
    "    def show(self):\n",
    "        print(\"Method from B\")\n",
    "\n",
    "class C(A):\n",
    "    def show(self):\n",
    "        print(\"Method from C\")\n",
    "\n",
    "class D(B, C):\n",
    "    pass\n",
    "\n",
    "# Create an instance of D\n",
    "d = D()\n",
    "d.show()  # Output: Method from B\n",
    "\n",
    "# Check the Method Resolution Order (MRO)\n",
    "print(D.mro())  # Output: [<class '__main__.D'>, <class '__main__.B'>, <class '__main__.C'>, <class '__main__.A'>, <class 'object'>]\n"
   ]
  },
  {
   "cell_type": "markdown",
   "metadata": {},
   "source": [
    "Explanation\n",
    "Class Definitions:\n",
    "\n",
    "A has a method show().\n",
    "B and C both override the show() method from A.\n",
    "D inherits from both B and C.\n",
    "Calling show():\n",
    "\n",
    "When d.show() is called, Python first looks in B, finds the overridden method, and calls it. This is why the output is \"Method from B\".\n",
    "Checking MRO:\n",
    "\n",
    "Calling D.mro() shows the order in which Python will resolve methods. In this case, it goes from D to B, then to C, then to A, and finally to the base object class.\n",
    "Summary\n",
    "The Diamond Problem can lead to ambiguity in multiple inheritance, but Python’s C3 linearization and method resolution order effectively resolve these issues by defining a clear and consistent hierarchy for method calls. This ensures predictable behavior when dealing with multiple inheritance scenarios."
   ]
  },
  {
   "cell_type": "markdown",
   "metadata": {},
   "source": [
    "Q14. Write a class method that keeps track of the number of instances created from a class.\n",
    "\n",
    "Ans: You can create a class method to keep track of the number of instances created from a class by using a class attribute that increments every time a new instance is created. Here’s how to implement this in a Python class:\n",
    "\n",
    "Implementation"
   ]
  },
  {
   "cell_type": "code",
   "execution_count": null,
   "metadata": {},
   "outputs": [],
   "source": [
    "class InstanceCounter:\n",
    "    instance_count = 0  # Class attribute to keep track of the number of instances\n",
    "\n",
    "    def __init__(self):\n",
    "        InstanceCounter.instance_count += 1  # Increment the count when a new instance is created\n",
    "\n",
    "    @classmethod\n",
    "    def get_instance_count(cls):\n",
    "        return cls.instance_count  # Return the current count of instances\n",
    "\n",
    "# Example usage\n",
    "obj1 = InstanceCounter()\n",
    "obj2 = InstanceCounter()\n",
    "obj3 = InstanceCounter()\n",
    "\n",
    "print(f\"Number of instances created: {InstanceCounter.get_instance_count()}\")  # Output: 3\n"
   ]
  },
  {
   "cell_type": "markdown",
   "metadata": {},
   "source": [
    "Explanation\n",
    "Class Attribute:\n",
    "\n",
    "instance_count: A class attribute that keeps track of the number of instances created from the class.\n",
    "Constructor:\n",
    "\n",
    "In the __init__ method, every time an instance of InstanceCounter is created, instance_count is incremented by 1.\n",
    "Class Method:\n",
    "\n",
    "get_instance_count(): This class method returns the current value of instance_count. It uses cls to refer to the class itself.\n",
    "Example Usage\n",
    "When you create three instances of InstanceCounter, the instance_count is incremented each time. The final print statement shows the total number of instances created.\n",
    "This implementation effectively tracks the number of instances of a class in Python!"
   ]
  },
  {
   "cell_type": "markdown",
   "metadata": {},
   "source": [
    "Q15. Implement a static method in a class that checks if a given year is a leap year.\n",
    "\n",
    "Ans: You can implement a static method in a class to check if a given year is a leap year. A leap year is defined as follows:\n",
    "\n",
    "It is divisible by 4.\n",
    "It is not divisible by 100, unless it is also divisible by 400.\n",
    "Here’s how you can implement this in a Python class:\n",
    "\n",
    "Implementation"
   ]
  },
  {
   "cell_type": "code",
   "execution_count": null,
   "metadata": {},
   "outputs": [],
   "source": [
    "class YearUtils:\n",
    "    @staticmethod\n",
    "    def is_leap_year(year):\n",
    "        if (year % 4 == 0 and year % 100 != 0) or (year % 400 == 0):\n",
    "            return True\n",
    "        return False\n",
    "\n",
    "# Example usage\n",
    "year = 2024\n",
    "if YearUtils.is_leap_year(year):\n",
    "    print(f\"{year} is a leap year.\")  # Output: 2024 is a leap year.\n",
    "else:\n",
    "    print(f\"{year} is not a leap year.\")\n"
   ]
  },
  {
   "cell_type": "markdown",
   "metadata": {},
   "source": [
    "Explanation\n",
    "Static Method:\n",
    "\n",
    "@staticmethod: This decorator indicates that the method does not depend on instance or class state. It can be called on the class itself without creating an instance.\n",
    "Leap Year Logic:\n",
    "\n",
    "The method is_leap_year(year) checks the conditions for determining if the specified year is a leap year based on the criteria mentioned.\n",
    "Example Usage:\n",
    "\n",
    "The method is called with the year 2024, and it prints whether it is a leap year.\n",
    "This static method provides a clear and reusable way to determine if a given year is a leap year!"
   ]
  }
 ],
 "metadata": {
  "language_info": {
   "name": "python"
  }
 },
 "nbformat": 4,
 "nbformat_minor": 2
}
